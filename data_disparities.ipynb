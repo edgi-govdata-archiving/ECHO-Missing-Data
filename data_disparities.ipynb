{
  "nbformat": 4,
  "nbformat_minor": 0,
  "metadata": {
    "colab": {
      "name": "data_disparities.ipynb",
      "provenance": [],
      "collapsed_sections": []
    },
    "kernelspec": {
      "display_name": "Python 3",
      "language": "python",
      "name": "python3"
    },
    "language_info": {
      "codemirror_mode": {
        "name": "ipython",
        "version": 3
      },
      "file_extension": ".py",
      "mimetype": "text/x-python",
      "name": "python",
      "nbconvert_exporter": "python",
      "pygments_lexer": "ipython3",
      "version": "3.7.6"
    }
  },
  "cells": [
    {
      "cell_type": "markdown",
      "metadata": {
        "id": "9iqQomRkRGm2"
      },
      "source": [
        "| ![EEW logo](https://github.com/edgi-govdata-archiving/EEW-Image-Assets/blob/master/Jupyter%20instructions/eew.jpg?raw=true) | ![EDGI logo](https://github.com/edgi-govdata-archiving/EEW-Image-Assets/blob/master/Jupyter%20instructions/edgi.png?raw=true) |\n",
        "|---|---|\n",
        "\n",
        "#### This notebook is licensed under GPL 3.0. Please visit our Github repo for more information: https://github.com/edgi-govdata-archiving/ECHO-Cross-Program\n",
        "#### The notebook was collaboratively authored by EDGI and PInT from Olin College following our authorship protocol: https://docs.google.com/document/d/1CtDN5ZZ4Zv70fHiBTmWkDJ9mswEipX6eCYrwicP66Xw/ PInT Contributors: Olivia Chang, Trevor Zou, Lili Baker\n",
        "\n",
        "#### For more information about this project, visit https://www.environmentalenforcementwatch.org/\n",
        "\n",
        "---"
      ]
    },
    {
      "cell_type": "markdown",
      "metadata": {
        "id": "g_Q7wCmjRGm5"
      },
      "source": [
        "## How to Run\n",
        "* A \"cell\" in a Jupyter notebook is a block of code performing a set of actions making available or using specific data.  The notebook works by running one cell after another, as the notebook user selects offered options.\n",
        "* If you click on a gray **code** cell, a little “play button” arrow appears on the left. If you click the play button, it will run the code in that cell (“**running** a cell”). The button will animate. When the animation stops, the cell has finished running.\n",
        "![Where to click to run the cell](https://github.com/edgi-govdata-archiving/EEW-Image-Assets/blob/master/Jupyter%20instructions/pressplay.JPG?raw=true)\n",
        "* You may get a warning that the notebook was not authored by Google. We know, we authored them! It’s okay. Click “Run Anyway” to continue. \n",
        "![Error Message](https://github.com/edgi-govdata-archiving/EEW-Image-Assets/blob/master/Jupyter%20instructions/warning-message.JPG?raw=true)\n",
        "* **It is important to run cells in order because they depend on each other.**\n",
        "* Run all of the cells in a Notebook to make a complete report. Please feel free to look at and **learn about each result as you create it**!"
      ]
    },
    {
      "cell_type": "markdown",
      "metadata": {
        "id": "H0o5UIQFRGm7"
      },
      "source": [
        "---"
      ]
    },
    {
      "cell_type": "markdown",
      "metadata": {
        "id": "gGXDiht8RGm8"
      },
      "source": [
        "# **Let's begin!**"
      ]
    },
    {
      "cell_type": "markdown",
      "metadata": {
        "id": "SBuGoozCRGm9"
      },
      "source": [
        "Hover over the \"[ ]\" on the top left corner of the cell below and you should see a \"play\" button appear. Click on it to run the cell then move to the next one.\n",
        "\n",
        "These first two cells give us access to some external Python code we will need."
      ]
    },
    {
      "cell_type": "markdown",
      "metadata": {
        "id": "oP0y1jSyRGnA"
      },
      "source": [
        "## Bring in some code that is stored in a Github project.\n",
        "These two github repositories, geopandas, and rtree hold Python code that the notebook uses. These are useful tools for interpreting data.\n",
        "* ECHO_modules holds code that can be used in this and other notebooks\n"
      ]
    },
    {
      "cell_type": "code",
      "metadata": {
        "id": "Nw8lXKinRGnB"
      },
      "source": [
        "!git clone https://github.com/edgi-govdata-archiving/ECHO_modules.git &>/dev/null;\n",
        "# !git clone https://github.com/oliviachang29/ECHO_modules.git &>/dev/null;\n",
        "!pip install geopandas &>/dev/null;\n",
        "!pip install rtree &>/dev/null;\n",
        "!pip install selenium &>/dev/null;\n",
        "!pip install scikit-learn &>/dev/null;\n",
        "\n",
        "print(\"Done!\")"
      ],
      "execution_count": null,
      "outputs": []
    },
    {
      "cell_type": "markdown",
      "metadata": {
        "id": "daR24kpcRGnJ"
      },
      "source": [
        "## Run a few Python modules.\n",
        "These will help us process and visualize the different program data sets later. It is not important to know what the python modules are as they are only used to process and visualize the data."
      ]
    },
    {
      "cell_type": "code",
      "metadata": {
        "id": "m0PffnzyRGnJ"
      },
      "source": [
        "from ECHO_modules.get_data import get_echo_data\n",
        "from ECHO_modules.utilities import show_region_type_widget, \\\n",
        "    show_state_widget, show_pick_region_widget, get_active_facilities, \\\n",
        "    state_choropleth_mapper\n",
        "\n",
        "import pandas as pd\n",
        "import math\n",
        "import geopandas\n",
        "import rtree\n",
        "import matplotlib.pyplot as plt\n",
        "from shapely.geometry import Point, Polygon\n",
        "import pandas as pd\n",
        "import requests\n",
        "from xml.etree import ElementTree\n",
        "import numpy as np\n",
        "import folium\n",
        "import json\n",
        "from functools import reduce\n",
        "import ipywidgets as widgets\n",
        "from ipywidgets import interact, interactive, fixed, interact_manual, Layout\n",
        "print(\"Done!\")"
      ],
      "execution_count": null,
      "outputs": []
    },
    {
      "cell_type": "markdown",
      "metadata": {
        "id": "q-C4_ozVjVMR"
      },
      "source": [
        "## Get facilities data from the database.\n",
        "\n",
        "\n",
        "Stony Brook University that regularly scrapes the information from the [EPA's ECHO website](echo.epa.gov/) and loads it into a database format that we can use to run research. The cell below retrieves all of the facilities in ECHO and stores it in the variable `full_echo_data`.\n",
        "\n",
        "The sql query determines which columns from the database are loaded. Adding more columns will make this cell take longer to run. As is, this cell may take several minutes to load because it is retrieving every facility (row) in the data. That's over 1 million records!\n",
        "\n",
        "**Want to learn more about what each column means?**\n",
        "[This spreadsheet catalogs the meaning of each column.](https://docs.google.com/spreadsheets/d/1LB-dlkwss60UNN_xjtCbU6TLhiPPls3ResCVpNOSBuI/edit?usp=sharing)"
      ]
    },
    {
      "cell_type": "code",
      "metadata": {
        "id": "_6qFRULm5oxk"
      },
      "source": [
        "sql = 'select  \"REGISTRY_ID\",\"FAC_NAME\",\"FAC_DERIVED_CB2010\",\"EJSCREEN_FLAG_US\",\"FAC_PERCENT_MINORITY\",\"FAC_LONG\", \"FAC_LAT\", \"FAC_STATE\",\"FAC_COUNTY\",\"FAC_CITY\",\"FAC_ZIP\",\"FAC_DERIVED_CD113\",\"FAC_EPA_REGION\",\"NPDES_IDS\",\"NPDES_FLAG\",\"CWA_INSPECTION_COUNT\",\"CWA_DAYS_LAST_INSPECTION\",\"CWA_INFORMAL_COUNT\",\"CWA_FORMAL_ACTION_COUNT\",\"CWA_PENALTIES\",\"CWA_LAST_PENALTY_AMT\",\"CWA_QTRS_WITH_NC\",\"RCRA_IDS\",\"RCRA_FLAG\",\"RCRA_INSPECTION_COUNT\",\"RCRA_DAYS_LAST_EVALUATION\",\"RCRA_INFORMAL_COUNT\",\"RCRA_FORMAL_ACTION_COUNT\",\"RCRA_PENALTIES\",\"RCRA_LAST_PENALTY_AMT\",\"RCRA_QTRS_WITH_NC\",\"AIR_IDS\",\"AIR_FLAG\",\"CAA_EVALUATION_COUNT\",\"CAA_DAYS_LAST_EVALUATION\",\"CAA_INFORMAL_COUNT\", \"CAA_FORMAL_ACTION_COUNT\",\"CAA_PENALTIES\",\"CAA_LAST_PENALTY_AMT\",\"CAA_QTRS_WITH_NC\" from \"ECHO_EXPORTER\" where \"FAC_ACTIVE_FLAG\" = \\'Y\\''\n",
        "\n",
        "try:\n",
        "# Don't index.\n",
        "  full_echo_data = get_echo_data( sql )\n",
        "except EmptyDataError:\n",
        "  print(\"\\nThere are no records.\\n\")\n",
        "  \n",
        "full_echo_data"
      ],
      "execution_count": null,
      "outputs": []
    },
    {
      "cell_type": "markdown",
      "metadata": {
        "id": "AIePwiVr51K_"
      },
      "source": [
        "### Assumptions\n",
        "\n",
        "As you can see, many facilities have \"NaN\", or \"Not a Number\", listed in a column. We make the assumption that NaN means missing data, not 0, for columns like CWA_INSPECTION_COUNT. This can be confirmed by downloading EPA's data for yourself from [here](https://echo.epa.gov/files/echodownloads/echo_exporter.zip). You will see that EPA has left many cells blank. There are good reasons for this: EPA itself may not know, for instance, how many inspections have been done for a facility in the past 3-5 years. Rather than imputing a potentially false 0, they seem to have decided to leave such values blank. "
      ]
    },
    {
      "cell_type": "markdown",
      "metadata": {
        "id": "PFfUck2iRGnP"
      },
      "source": [
        "## Sort facilities by Clean Water Act (CWA), Resource Conservation and Recovery Act (RCRA), and Clean Air Act (CAA).\n",
        "These cells get all facilities in the database that are marked as regulated under the CWA, RCRA, and CAA respectively, and are currently active.\n",
        "\n",
        "Some facilities can be marked as regulated under multiple acts, so some facilities will be contained in two or more of the CWA, RCRA, and CAA reports we generate.\n",
        "\n",
        "Each table below tabulates this data, but only displays the first and last five rows."
      ]
    },
    {
      "cell_type": "markdown",
      "metadata": {
        "id": "vbr4Iw-jTePI"
      },
      "source": [
        "#### **Clean Water Act (CWA) Facilities**\n",
        "For each facility, if `NPDES_FLAG` is `Y`, then the facility must report under the CWA National Pollutant Discharge Elimination System (NPDES). `cwa_facs`, shown in this table, contains all the facilities that must report under the CWA by filtering facilities by `NPDES_FLAG`. "
      ]
    },
    {
      "cell_type": "code",
      "metadata": {
        "id": "DMInrcEMh6o8"
      },
      "source": [
        "cwa_facs = full_echo_data[full_echo_data[\"NPDES_FLAG\"] == \"Y\"]\n",
        "cwa_facs[[\"FAC_NAME\", \"NPDES_FLAG\"]]"
      ],
      "execution_count": null,
      "outputs": []
    },
    {
      "cell_type": "markdown",
      "metadata": {
        "id": "pzHgCWlxTmQP"
      },
      "source": [
        "#### **RCRA Facilities**\n",
        "For each facility, if `RCRA_FLAG` is `Y`, then the facility must report under the RCRA. `rcra_facs`, shown in this table, contains all the facilities that must report under the RCRA by filtering facilities by `RCRA_FLAG`."
      ]
    },
    {
      "cell_type": "code",
      "metadata": {
        "id": "inOzKoR3RGnQ"
      },
      "source": [
        "rcra_facs = full_echo_data[full_echo_data[\"RCRA_FLAG\"] == \"Y\"]\n",
        "rcra_facs[[\"FAC_NAME\", \"RCRA_FLAG\"]]"
      ],
      "execution_count": null,
      "outputs": []
    },
    {
      "cell_type": "markdown",
      "metadata": {
        "id": "320HoPY4TqC3"
      },
      "source": [
        "#### **CAA Facilities**\n",
        "For each facility, if `AIR_FLAG` is `Y`, then the facility must report under the RCRA. `caa_facs`, shown in this table, contains all the facilities that must report under the CAA by filtering facilities by `AIR_FLAG`."
      ]
    },
    {
      "cell_type": "code",
      "metadata": {
        "id": "yelyxxgjpE0f"
      },
      "source": [
        "caa_facs = full_echo_data[full_echo_data[\"AIR_FLAG\"] == \"Y\"]\n",
        "caa_facs[[\"FAC_NAME\", \"AIR_FLAG\"]]"
      ],
      "execution_count": null,
      "outputs": []
    },
    {
      "cell_type": "markdown",
      "source": [
        "Now, we'll put `cwa_facs`, `rcra_facs`, and `caa_facs` into a format that makes it more accessible for the following cells."
      ],
      "metadata": {
        "id": "_W248c9554hO"
      }
    },
    {
      "cell_type": "code",
      "source": [
        "# First, we name the fields, or columns, that are relevant to each regulatory program.\n",
        "# In addition to basic info pertient for any facility, we are interested in...\n",
        "# things like the days since a facility's last inspection, the number of informal regulatory actions taken against it,\n",
        "# the number of formal actions taken against it, $ value of penalties, and time spent in non-compliance.\n",
        "\n",
        "intended_columns = {\n",
        "  \"Basic Info\": [\"REGISTRY_ID\", \"FAC_LONG\", \"FAC_LAT\", \"FAC_STATE\", \"FAC_COUNTY\"],\n",
        "  \"CWA\": [\"CWA_INSPECTION_COUNT\", \"CWA_DAYS_LAST_INSPECTION\", \"CWA_INFORMAL_COUNT\", \"CWA_FORMAL_ACTION_COUNT\", \"CWA_PENALTIES\", \"CWA_LAST_PENALTY_AMT\", \"CWA_QTRS_WITH_NC\"],\n",
        "  \"RCRA\": [\"RCRA_INSPECTION_COUNT\",\"RCRA_DAYS_LAST_EVALUATION\",\"RCRA_INFORMAL_COUNT\",\"RCRA_FORMAL_ACTION_COUNT\",\"RCRA_PENALTIES\",\"RCRA_LAST_PENALTY_AMT\",\"RCRA_QTRS_WITH_NC\"],\n",
        "  \"CAA\": [\"CAA_EVALUATION_COUNT\",\"CAA_DAYS_LAST_EVALUATION\",\"CAA_INFORMAL_COUNT\", \"CAA_FORMAL_ACTION_COUNT\",\"CAA_PENALTIES\",\"CAA_LAST_PENALTY_AMT\",\"CAA_QTRS_WITH_NC\"]\n",
        "}\n",
        "\n",
        "act_facs = {\n",
        "  \"Basic Info\": full_echo_data,\n",
        "  \"CWA\": cwa_facs,\n",
        "  \"RCRA\": rcra_facs,\n",
        "  \"CAA\": caa_facs\n",
        "}"
      ],
      "metadata": {
        "id": "_ceS4uT-yWWA"
      },
      "execution_count": null,
      "outputs": []
    },
    {
      "cell_type": "markdown",
      "metadata": {
        "id": "Diw-dffTPu40"
      },
      "source": [
        "# Exploring Missing Data"
      ]
    },
    {
      "cell_type": "markdown",
      "metadata": {
        "id": "3dtxTDMiRu0t"
      },
      "source": [
        "This function counts the number of facilities in `full_echo_data` that are missing information in a column. This cell won't generate results, but run it in order to proceed with the analysis."
      ]
    },
    {
      "cell_type": "code",
      "metadata": {
        "id": "qSiQB105RhFh"
      },
      "source": [
        "def print_num_missing_per_column(column):\n",
        "  print(\"# Facilities missing \" + column + \":\")\n",
        "  count = full_echo_data[full_echo_data[column].isnull()].shape[0]\n",
        "  pct = (count / full_echo_data.shape[0]) * 100\n",
        "  # print number with commas\n",
        "  print(f'{count:,}', \"facilities\")\n",
        "  print(f'{pct:.2f}', \"%\")\n",
        "  print(\"-------------------------\")\n",
        "print(\"Ready!\")"
      ],
      "execution_count": null,
      "outputs": []
    },
    {
      "cell_type": "markdown",
      "metadata": {
        "id": "L_4KeswjJK26"
      },
      "source": [
        "### Many facilities are missing basic data, like location, registry ID, and name\n",
        "\n",
        "If these columns are missing, regulators are unable to complete basic regulatory tasks. Run this cell to see a breakdown of the number and percent of facilities missing basic data."
      ]
    },
    {
      "cell_type": "code",
      "metadata": {
        "id": "S9qjF6y3JTtF"
      },
      "source": [
        "for column in intended_columns[\"Basic Info\"]:\n",
        "  print_num_missing_per_column(column)"
      ],
      "execution_count": null,
      "outputs": []
    },
    {
      "cell_type": "markdown",
      "metadata": {
        "id": "lq_vz1yvQlM_"
      },
      "source": [
        "### Some facilities are missing data that we need to conduct environmental justice research:\n",
        "\n",
        "These two columns help us determine whether a regulated facility is situated in a majority-minority community:\n",
        "\n",
        "* `FAC_PERCENT_MINORITY` is EPA's estimate of the percentage of the population within a 3-mile radius of the facility that is minority (non-white).\n",
        "* `FAC_DERIVED_CB2010` is the 2010 Census Block where the facility is located. Without this, we can't compare the CB2010 block number to census data to get information on the facility's surrounding community.\n",
        "\n",
        "Additionally, `EJSCREEN_FLAG_US` indicates whether a facility is located in a census block groups that is in the 80th or higher national percentile of one of the primary environmental justice indexes of EJSCREEN, EPA's screening tool for EJ concerns.\n"
      ]
    },
    {
      "cell_type": "code",
      "metadata": {
        "id": "309z5iO0ObRh"
      },
      "source": [
        "ej_columns = [\"FAC_PERCENT_MINORITY\", \"FAC_DERIVED_CB2010\",\"EJSCREEN_FLAG_US\"]\n",
        "for column in ej_columns:\n",
        "  print_num_missing_per_column(column)"
      ],
      "execution_count": null,
      "outputs": []
    },
    {
      "cell_type": "markdown",
      "metadata": {
        "id": "NJ2lT6bwl315"
      },
      "source": [
        "# Data Errors\n",
        "\n",
        "In this section, we'll explore some of the obvious data errors in this database, and run a verifier that checks for duplicate and missing IDs."
      ]
    },
    {
      "cell_type": "markdown",
      "metadata": {
        "id": "OJBd8XOKnvUh"
      },
      "source": [
        "## Some facilities have latitudes and longitudes that are outside the US\n",
        "The following code and image depict the minimum and maximum latitudes and longtitudes within the dataset. As evidenced in the image, the minimum and maximum values lie outside of the boundary of the United States and territories as the highlighted square is the boundary created by these values."
      ]
    },
    {
      "cell_type": "code",
      "metadata": {
        "id": "2MByDyv5n2L2"
      },
      "source": [
        "print(\"Minimum longitude:\", full_echo_data.FAC_LONG.min())\n",
        "print(\"Maximum longitude:\", full_echo_data.FAC_LONG.max())\n",
        "print(\"Minimum latitude:\", full_echo_data.FAC_LAT.min())\n",
        "print(\"Maximum latitude:\",full_echo_data.FAC_LAT.max())"
      ],
      "execution_count": null,
      "outputs": []
    },
    {
      "cell_type": "markdown",
      "source": [
        "![picture](https://github.com/tzou2024/PInTxEdgi/blob/main/bodningbox.png?raw=true)"
      ],
      "metadata": {
        "id": "STkM9_4Osgf5"
      }
    },
    {
      "cell_type": "markdown",
      "metadata": {
        "id": "kH8hDe71WMJI"
      },
      "source": [
        "## Some facilities have unusual state abbreviations in `FAC_STATE`\n",
        "\n",
        "The state values in `FAC_STATE` should match known state or territorial postal codes. This function loads all of the unique values in `FAC_STATE` and compares them against a list of state and territorial postal codes. The values that don't match the postal codes, and the number of facilities using those values, are put in `results`. Some of these incorrect codes include Canadian province codes, like PQ, AB, and BC. Others, like XF, refer to broad areas like \"Americas.\" GE refers to Georgia the country [according](https://support.isan.org/hc/en-us/articles/360012636280-List-of-ISO-3166-Country-Codes) to the ISO. \n",
        "\n",
        "Note that areas such as Washington DC, Puerto Rico, and Guam are acceptable state postal codes."
      ]
    },
    {
      "cell_type": "code",
      "metadata": {
        "id": "FSfbzbOTUGrB"
      },
      "source": [
        "f = open('ECHO_modules/state_postal_code_to_fips.json',)\n",
        "state_postal_code_to_fips = json.load(f)\n",
        "\n",
        "results = {\n",
        "    \"Nonexistent State Abbreviation\": [],\n",
        "    \"# Facilities With Abbreviation\": []\n",
        "}\n",
        "\n",
        "state_values = full_echo_data[[\"FAC_STATE\"]].values.ravel()\n",
        "unique_state_values =  pd.unique(state_values)\n",
        "total_incorrect = 0;\n",
        "\n",
        "for value in unique_state_values: \n",
        "  if value not in state_postal_code_to_fips and isinstance(value, str):\n",
        "    count = full_echo_data[full_echo_data[\"FAC_STATE\"] == value].size\n",
        "    total_incorrect += count\n",
        "    results[\"Nonexistent State Abbreviation\"].append(value)\n",
        "    results[\"# Facilities With Abbreviation\"].append(count)\n",
        "results = pd.DataFrame(results)\n",
        "print(\"Total # Facilities With Nonexistent State Abbreviations:\", total_incorrect)\n",
        "results"
      ],
      "execution_count": null,
      "outputs": []
    },
    {
      "cell_type": "markdown",
      "metadata": {
        "id": "NuI6ai4cl8wZ"
      },
      "source": [
        "## Facilities that have no IDs, even with the flag checked\n",
        "\n",
        "When a facility is marked to report underneath a certain act, then the facility is given an ID that corresponds to that act. That ID can be used to find more about that facility's compliance with that act outside of this summary ECHO dataset.\n",
        "\n",
        "For CWA, the corresponding ID is `NDPES_ID`. If a facility must report under the CWA, it should have the flag `NPDES_FLAG` checked as `Y`. However, if `NPDES_FLAG` is `Y` but the `NDPES_ID` is missing, we can't find out more information about this facility that isn't in the summary data set.\n",
        "\n",
        "This cell checks if any facilities are marked for a given act but are missing the ID."
      ]
    },
    {
      "cell_type": "code",
      "metadata": {
        "id": "9xCM0BPYqQXo"
      },
      "source": [
        "# find facilities where flag is there but ids aren’t\n",
        "print(\"CWA Facilities that are missing NDPES_IDS\")\n",
        "display(cwa_facs[cwa_facs['NPDES_IDS'].isnull()].shape[0])\n",
        "\n",
        "print(\"RCRA Facilities that are missing RCRA_IDS\")\n",
        "display(rcra_facs[rcra_facs['RCRA_IDS'].isnull()].shape[0])\n",
        "\n",
        "print(\"CAA Facilities that are missing AIR_IDS\")\n",
        "display(caa_facs[caa_facs['AIR_IDS'].isnull()].shape[0])"
      ],
      "execution_count": null,
      "outputs": []
    },
    {
      "cell_type": "markdown",
      "metadata": {
        "id": "IAtSEDQqwbSX"
      },
      "source": [
        "## Duplicate IDs\n",
        "\n",
        "Registry ID, NDPES_IDS, RCRA_IDS, and AIR_IDS should all be unique values that each only occur once in the database. That is, each row (each facility) should have a different Registry ID. Likewise, each facility regulated under the CWA should have a different NPDES_ID. Among the values that are not null, let's check whether there are any duplicate values."
      ]
    },
    {
      "cell_type": "code",
      "metadata": {
        "id": "RdMsXyzVynO8"
      },
      "source": [
        "print(\"All facilities with duplicate REGISTRY_IDS\")\n",
        "facs_with_registry_ids = full_echo_data[full_echo_data['REGISTRY_ID'].notnull()]\n",
        "display(facs_with_registry_ids[facs_with_registry_ids.duplicated(['REGISTRY_ID'], keep=False)].shape[0])\n",
        "\n",
        "print(\"CWA Facilities with duplicate NDPES_IDS\")\n",
        "cwa_facs_with_cwa_ids = cwa_facs[cwa_facs['NPDES_IDS'].notnull()]\n",
        "display(cwa_facs_with_cwa_ids[cwa_facs_with_cwa_ids.duplicated(['NPDES_IDS'], keep=False)].shape[0])\n",
        "\n",
        "print(\"RCRA Facilities with duplicate RCRA_IDS\")\n",
        "rcra_facs_w_rcra_ids = rcra_facs[rcra_facs[\"RCRA_IDS\"].notnull()]\n",
        "display(rcra_facs_w_rcra_ids[rcra_facs_w_rcra_ids.duplicated(['RCRA_IDS'], keep=False)].shape[0])\n",
        "\n",
        "print(\"CAA Facilities with duplicate AIR_IDS\")\n",
        "caa_facs_w_caa_ids = caa_facs[caa_facs[\"AIR_IDS\"].notnull()]\n",
        "display(caa_facs_w_caa_ids[caa_facs_w_caa_ids.duplicated(['AIR_IDS'], keep=False)].shape[0])"
      ],
      "execution_count": null,
      "outputs": []
    },
    {
      "cell_type": "markdown",
      "metadata": {
        "id": "-CSEld44sn_d"
      },
      "source": [
        "# Calculating Scores for % of Missing Data\n",
        "This section generates data quality scores for each facility that can be used to conduct region-level analyses.\n",
        "\n",
        "An important caveat to note: it's possible that there are regulated facilities that aren't even in the database. This basic info score can't take into account those facilities."
      ]
    },
    {
      "cell_type": "markdown",
      "metadata": {
        "id": "z5TTnNQ7J3LB"
      },
      "source": [
        "This function generates each facility's score for a given act by computing the percent of columns related to that act that are missing data. Since this is a percentage of relevant columns that are missing data, **higher values mean more data is missing.**\n",
        "\n",
        "* A score of **0** means that there is **no missing data**.\n",
        "* A score of **100** means that **all relevant columns are missing data.**\n",
        "\n",
        "Run this cell in order to prepare the analysis. It won't generate output other than a message that says \"Ready\"."
      ]
    },
    {
      "cell_type": "code",
      "metadata": {
        "id": "GtiCetihR-WR"
      },
      "source": [
        "# function that calculates the amount of missing data for the act in the intended columns; computes score and assigns to intended column\n",
        "def calc_score(intended_columns, act, type_of_score):\n",
        "  def labeler (row):\n",
        "    total_missing = 0\n",
        "    for col in intended_columns:\n",
        "      # for the columns that are strings, check if they are null\n",
        "      if col == \"FAC_STATE\" or col == \"FAC_COUNTY\":\n",
        "        if pd.isnull(row[col]):\n",
        "          total_missing = total_missing + 1\n",
        "      # otherwise, check if they are not a number\n",
        "      elif math.isnan(row[col]):\n",
        "        total_missing = total_missing + 1\n",
        "    return round((total_missing / len(intended_columns) * 100), 2)\n",
        "  act[type_of_score] = act.apply(labeler, axis=1)\n",
        "\n",
        "print(\"Ready\")"
      ],
      "execution_count": null,
      "outputs": []
    },
    {
      "cell_type": "markdown",
      "metadata": {
        "id": "ZoHuQrXEpKm1"
      },
      "source": [
        "### Basic Info Score\n",
        "Run the score calculator for basic information for each facility EPA has in its database, including information on registry ID, facility latitude and longitude, facility county, and facility state. The resulting table shows only the relevant columns, and the computed score.\n",
        "\n",
        "This may take a minute to run since we are calculating scores for over 1 million facilities."
      ]
    },
    {
      "cell_type": "code",
      "metadata": {
        "id": "gNY9NpZITJM_"
      },
      "source": [
        "calc_score(intended_columns[\"Basic Info\"], full_echo_data, \"Basic_Info_Score\")\n",
        "basic_info_columns_and_score = intended_columns[\"Basic Info\"].copy()\n",
        "basic_info_columns_and_score.append('Basic_Info_Score')\n",
        "full_echo_data[basic_info_columns_and_score]"
      ],
      "execution_count": null,
      "outputs": []
    },
    {
      "cell_type": "markdown",
      "metadata": {
        "id": "cPvI6Vs2phCj"
      },
      "source": [
        "### CWA Score\n",
        "Run the score calculator for CWA information on CWA-flagged facilities. The resulting table shows only the relevant columns, and the computed score."
      ]
    },
    {
      "cell_type": "code",
      "metadata": {
        "id": "nWD2bMdeHQNI"
      },
      "source": [
        "calc_score(intended_columns[\"CWA\"], cwa_facs, \"CWA_Score\")\n",
        "cwa_columns_and_score = intended_columns[\"CWA\"].copy()\n",
        "cwa_columns_and_score.append('CWA_Score')\n",
        "cwa_facs[cwa_columns_and_score]"
      ],
      "execution_count": null,
      "outputs": []
    },
    {
      "cell_type": "markdown",
      "metadata": {
        "id": "--EQJM1XqBs9"
      },
      "source": [
        "### RCRA Score\n",
        "Run the score calculator for RCRA information on RCRA-flagged facilities. The resulting table shows only the relevant columns, and the computed score."
      ]
    },
    {
      "cell_type": "code",
      "metadata": {
        "id": "xx6hthWTl2mN"
      },
      "source": [
        "calc_score(intended_columns[\"RCRA\"], rcra_facs, \"RCRA_Score\")\n",
        "rcra_columns_and_score = intended_columns[\"RCRA\"].copy()\n",
        "rcra_columns_and_score.append('RCRA_Score')\n",
        "rcra_facs[rcra_columns_and_score]"
      ],
      "execution_count": null,
      "outputs": []
    },
    {
      "cell_type": "markdown",
      "metadata": {
        "id": "IXPztkAJqEgX"
      },
      "source": [
        "### CAA Score\n",
        "Run the score calculator for CAA information on CAA-flagged facilities. The resulting table shows only the relevant columns, and the computed score."
      ]
    },
    {
      "cell_type": "code",
      "metadata": {
        "id": "VODZP2E3miQb"
      },
      "source": [
        "calc_score(intended_columns[\"CAA\"], caa_facs, \"CAA_Score\")\n",
        "caa_columns_and_score = intended_columns[\"CAA\"].copy()\n",
        "caa_columns_and_score.append('CAA_Score')\n",
        "caa_facs[caa_columns_and_score]"
      ],
      "execution_count": null,
      "outputs": []
    },
    {
      "cell_type": "markdown",
      "metadata": {
        "id": "NQq8W2nbKEqX"
      },
      "source": [
        "## Average facility scores by state\n",
        "This function averages the scores for every facility in each state to get state-level scores for each act.\n",
        "\n",
        "Run this cell to prepare the analysis. It won't generate output other than \"Ready\"."
      ]
    },
    {
      "cell_type": "code",
      "metadata": {
        "id": "Fl_dPBZuE-5r"
      },
      "source": [
        "# calculate score by state by averaging all facilities in that state\n",
        "def calc_score_by_state(act, act_state, act_name):\n",
        "  act_state = act.groupby([\"FAC_STATE\"], dropna=False).agg({act_name + \"_Score\": \"sum\", \"FAC_STATE\": \"count\"})\n",
        "\n",
        "  act_state[act_name + \"_Average\"] = round((act_state[act_name + \"_Score\"] / act_state[\"FAC_STATE\"]), 2)\n",
        "  act_state[\"STUSPS\"] = act_state.index\n",
        "\n",
        "  # remove \"inf\" values resulting from no state listed\n",
        "  act_state = act_state.drop(act_state[act_state[act_name + \"_Average\"]>100].index)\n",
        "  act_state = act_state.drop(columns=[\"FAC_STATE\",(act_name + \"_Score\")])\n",
        "  return act_state\n",
        "\n",
        "print(\"Ready\")"
      ],
      "execution_count": null,
      "outputs": []
    },
    {
      "cell_type": "markdown",
      "metadata": {
        "id": "2aYq1PFHFVLW"
      },
      "source": [
        "Call the previous block's state averaging function for each score (basic info, CWA, RCRA, CAA), and merge all the scores together into one table.\n",
        "\n",
        "Remember that lower scores indicate greater data completeness."
      ]
    },
    {
      "cell_type": "code",
      "metadata": {
        "id": "DkMSbqoHe2S4"
      },
      "source": [
        "# Merge on state for Basic Info score\n",
        "basic_info_state_data = None\n",
        "basic_info_state_data = calc_score_by_state(full_echo_data, basic_info_state_data, \"Basic_Info\")\n",
        "\n",
        "# Merge on state for CWA score\n",
        "cwa_state_data = None\n",
        "cwa_state_data = calc_score_by_state(cwa_facs, cwa_state_data, \"CWA\")\n",
        "\n",
        "# Merge on state for RCRA score\n",
        "rcra_state_data = None\n",
        "rcra_state_data = calc_score_by_state(rcra_facs, rcra_state_data, \"RCRA\")\n",
        "\n",
        "# Merge on state for CAA score\n",
        "caa_state_data = None\n",
        "caa_state_data = calc_score_by_state(caa_facs, caa_state_data, \"CAA\")\n",
        "\n",
        "# Merge all scores together\n",
        "scores_by_state = reduce(lambda  left,right: pd.merge(left,right,on=['STUSPS'],\n",
        "  how='outer'), [basic_info_state_data, cwa_state_data, rcra_state_data, caa_state_data])\n",
        "scores_by_state"
      ],
      "execution_count": null,
      "outputs": []
    },
    {
      "cell_type": "markdown",
      "metadata": {
        "id": "WqV91v1zGcG-"
      },
      "source": [
        "Our scoring function has captured the unusual state/territorial abbreviations like \"XI\", which significantly skews the data when trying to calculate standard deviations. Let's remove the rows in `scores_by_state` with the unusual state/territorial abbrevations."
      ]
    },
    {
      "cell_type": "code",
      "metadata": {
        "id": "_BZtEX5gcm8Q"
      },
      "source": [
        "# Drop the states with nonexistent abbreviations\n",
        "scores_by_state = scores_by_state[scores_by_state[\"STUSPS\"].isin(state_postal_code_to_fips)]\n",
        "scores_by_state"
      ],
      "execution_count": null,
      "outputs": []
    },
    {
      "cell_type": "markdown",
      "metadata": {
        "id": "C9HfPEG_Ht_M"
      },
      "source": [
        "Now, let's calculate the mean-adjusted standard deviation for the basic info score. Because the basic info scores are small, the mean-adjusted standard deviation for the basic info will give us better information on how well states are doing relative to each other.\n",
        "\n",
        "Results show the number of standard deviations the state or territory's basic info score is from the mean. In this case, negative scores show *above* average data completness, while positive scores indicate *below* average data completeness. (For reference, we are calculating [Z-scores](https://en.wikipedia.org/wiki/Standard_score))"
      ]
    },
    {
      "cell_type": "code",
      "metadata": {
        "id": "QP9y0cgrFC1v"
      },
      "source": [
        "# Since the difference between basic_info scores is low (generally less than 1),\n",
        "std = scores_by_state['Basic_Info_Average'].std() # calculate the standard deviation\n",
        "mean = scores_by_state['Basic_Info_Average'].mean() # calculate overall mean\n",
        "def stder(row):\n",
        "  v = round(((row[\"Basic_Info_Average\"] - mean) / std), 2) # calculate departure from mean in terms of standard deviations \n",
        "  return v\n",
        "scores_by_state[\"Basic_Info_Average_STD\"] = scores_by_state.apply(stder, axis=1) \n",
        "\n",
        "print(\"Standard Deviation: \" + str(std))\n",
        "print(\"Mean: \" + str(mean))\n",
        "scores_by_state"
      ],
      "execution_count": null,
      "outputs": []
    },
    {
      "cell_type": "markdown",
      "metadata": {
        "id": "Pr2XNYBUNNOe"
      },
      "source": [
        "## Visualize State Scores With a Map"
      ]
    },
    {
      "cell_type": "markdown",
      "source": [
        "### Basic Info Score Standard Deviation Map\n",
        "Keep in mind that a higher departure from the average basic info score is worse. Therefore,\n",
        "* Red = worse data completeness\n",
        "* White = better data completeness:"
      ],
      "metadata": {
        "id": "33myc18nAxlx"
      }
    },
    {
      "cell_type": "code",
      "metadata": {
        "id": "iAnt1qn0Ll0w"
      },
      "source": [
        "state_choropleth_mapper(scores_by_state, \"Basic_Info_Average_STD\", \"Departure from Average Basic Info Score by State\")"
      ],
      "execution_count": null,
      "outputs": []
    },
    {
      "cell_type": "markdown",
      "metadata": {
        "id": "AsW_WZLOsQKo"
      },
      "source": [
        "### CWA Score Map\n",
        "Keep in mind that higher scores are worse, as they indicate the average percent of missing data for CWA facilities in that state. \n",
        "* Red = worse data completeness\n",
        "* White = better data completeness"
      ]
    },
    {
      "cell_type": "code",
      "metadata": {
        "id": "vyyTXH1Sj72q"
      },
      "source": [
        "state_choropleth_mapper(scores_by_state, \"CWA_Average\", \"CWA Score by State\")"
      ],
      "execution_count": null,
      "outputs": []
    },
    {
      "cell_type": "markdown",
      "metadata": {
        "id": "rJDlsZlJsVrC"
      },
      "source": [
        "### RCRA Score Map\n",
        "Keep in mind that higher scores are worse, as they indicate the average percent of missing data for RCRA facilities in that state. \n",
        "* Red = worse data completeness\n",
        "* White = better data completeness"
      ]
    },
    {
      "cell_type": "code",
      "metadata": {
        "id": "nuDWb6KdkFUk"
      },
      "source": [
        "state_choropleth_mapper(scores_by_state, \"RCRA_Average\", \"RCRA Score by State\")"
      ],
      "execution_count": null,
      "outputs": []
    },
    {
      "cell_type": "markdown",
      "metadata": {
        "id": "zX-SDDodsXzf"
      },
      "source": [
        "### CAA Score Map\n",
        "Keep in mind that higher scores are worse, as they indicate the average percent of missing CAA data for facilities in that state. \n",
        "* Red = worse data completeness\n",
        "* White = better data completeness"
      ]
    },
    {
      "cell_type": "code",
      "metadata": {
        "id": "TPcpBKVPjoFK"
      },
      "source": [
        "state_choropleth_mapper(scores_by_state, \"CAA_Average\", \"CAA Score by State\")"
      ],
      "execution_count": null,
      "outputs": []
    },
    {
      "cell_type": "markdown",
      "source": [
        "# Further explore missing EJ data\n",
        "\n"
      ],
      "metadata": {
        "id": "fA1gHYPGA4Wi"
      }
    },
    {
      "cell_type": "markdown",
      "source": [
        "In EPA's dataset, there are two ways of determining if a facility is in an environmental justice community.\n",
        "\n",
        "* `FAC_PERCENT_MINORITY` is the percentage of the population within a 3-mile radius that is minority. If this value is above 50%, then the facility is located in a majority-minority community.\n",
        "* `EJSCREEN_FLAG_US` indicates whether a facility is located in a census block groups that is in the 80th or higher national percentile of one of the primary environmental justice indexes of EJSCREEN, EPA's screening tool for EJ concerns. If a facility is in the 80th percentile, then it will have an `EJSCREEN_FLAG_US` value of `Y`. \n",
        "\n",
        "In this notebook, we've provided two options to sort facilities into environmental justice communities. By default, we will use `FAC_PERCENT_MINORITY`, but if you'd like to explore the effects of `EJSCREEN_FLAG_US`, you can change the column here: "
      ],
      "metadata": {
        "id": "8P9PsVtG8Na0"
      }
    },
    {
      "cell_type": "code",
      "source": [
        "choose_ej_column_widget = widgets.RadioButtons(\n",
        "    options=['FAC_PERCENT_MINORITY', 'EJSCREEN_FLAG_US'],\n",
        "    value='FAC_PERCENT_MINORITY', # Default\n",
        "    description='Column:',\n",
        "    disabled=False\n",
        ")\n",
        "display(choose_ej_column_widget)"
      ],
      "metadata": {
        "id": "j47VJ5fj7uxo"
      },
      "execution_count": null,
      "outputs": []
    },
    {
      "cell_type": "markdown",
      "source": [
        "If `FAC_PERCENT_MINORITY` is selected, then:\n",
        "* `majmin` contains facilities that are in communities that are more than 50% minority.\n",
        "* `white` contains facilities that are in communities that are less than 50% minority.\n",
        "\n",
        "If `EJSCREEN_FLAG_US` is selected, then:\n",
        "* `majmin` contains facilities that are marked in the 80th percentile for EJScreen.\n",
        "* `white` contains facilities that are **not** marked in the 80th percentile for EJScreen"
      ],
      "metadata": {
        "id": "m1-WFymPAz06"
      }
    },
    {
      "cell_type": "markdown",
      "source": [
        "# Comparing Scores for Majority Minority versus Majority White Communities"
      ],
      "metadata": {
        "id": "7nQYnF6ivdzF"
      }
    },
    {
      "cell_type": "markdown",
      "source": [
        "This function generates the total score for each act according to demographics by computing the percent of columns related to that act are missing. Since this is a percentage of columns that are missing, higher values mean more data is missing.\n",
        "\n",
        "*   A score of 0 means that there is no missing data.\n",
        "*   A score of 100 means that all relevant columns are missing data.\n",
        "\n",
        "Run this cell to proceed with the analysis. It won't generate any output other than (\"Ready\")"
      ],
      "metadata": {
        "id": "82h16Ze_8s56"
      }
    },
    {
      "cell_type": "code",
      "source": [
        "def calc_by_demographic(act, act_name):\n",
        "  results = {}\n",
        "  results[act_name] = {}\n",
        "  results[act_name]['All'] = act[act_name + \"_Score\"].sum() / len(act)\n",
        "\n",
        "  # the way maj-min is calculated changes based on the column widget (see above)\n",
        "  # Majority-minority\n",
        "  if choose_ej_column_widget.value == \"FAC_PERCENT_MINORITY\":  \n",
        "    act_majmin_facs = act.loc[act[\"FAC_PERCENT_MINORITY\"] >= 50]\n",
        "    majmin_title = \"Majority-Minority\"\n",
        "\n",
        "    act_majwhite_facs = act.loc[act[\"FAC_PERCENT_MINORITY\"] < 50]\n",
        "    majwhite_title = \"Majority-White\"\n",
        "  else:\n",
        "    act_majmin_facs = act[act[\"EJSCREEN_FLAG_US\"] == \"Y\"]\n",
        "    majmin_title = \">80th Percentile EJScreen\"\n",
        "\n",
        "    act_majwhite_facs = act[act[\"EJSCREEN_FLAG_US\"] == \"N\"]\n",
        "    majwhite_title = \"<80th Percentile EJScreen\"\n",
        "\n",
        "  results[act_name][majmin_title] = round((act_majmin_facs[act_name + \"_Score\"].sum() / len(act_majmin_facs)),2)\n",
        "  results[act_name][majwhite_title] = round((act_majwhite_facs[act_name + \"_Score\"].sum() / len(act_majwhite_facs)),2)\n",
        "  # Calculate difference between majmin and majwhite\n",
        "  results[act_name]['Difference'] = results[act_name][majmin_title] - results[act_name][majwhite_title]\n",
        "\n",
        "  results = pd.DataFrame(results).transpose()\n",
        "  return results\n",
        "\n",
        "print(\"Ready\")"
      ],
      "metadata": {
        "id": "4KoMeBtAqQmr"
      },
      "execution_count": null,
      "outputs": []
    },
    {
      "cell_type": "markdown",
      "source": [
        "This cell calculates the missing data scores by demographics for each act. The resulting scores are then combined into one table and displayed.\n",
        "\n",
        "Positive values for `Difference` indicate that facilities in Majority-Minority neighborhoods (as defined by the column selected) have *less* data completeness than facilities in Majority-White neighborhoods."
      ],
      "metadata": {
        "id": "KfLW0Txfv7Uw"
      }
    },
    {
      "cell_type": "code",
      "source": [
        "cwa_results = calc_by_demographic(cwa_facs, \"CWA\")\n",
        "rcra_results = calc_by_demographic(rcra_facs, \"RCRA\")\n",
        "caa_results = calc_by_demographic(caa_facs, \"CAA\")\n",
        "scores_by_demographics = pd.concat([cwa_results, rcra_results], axis=0)\n",
        "scores_by_demographics = pd.concat([scores_by_demographics, caa_results], axis=0)\n",
        "scores_by_demographics"
      ],
      "metadata": {
        "id": "HKnq37M-rVls"
      },
      "execution_count": null,
      "outputs": []
    },
    {
      "cell_type": "markdown",
      "source": [
        "Here we produce a visualization of the data."
      ],
      "metadata": {
        "id": "zz2Aob7eLpTJ"
      }
    },
    {
      "cell_type": "code",
      "source": [
        "scores_by_demographics.drop(columns=\"Difference\").plot.bar(figsize=(12,12),ylim=(0,100)).set(ylabel = '% Facilities Missing Data in Column', title = 'Missing Facility Data for All vs. Majority-Minority vs. White Communities')"
      ],
      "metadata": {
        "id": "LyON8t0dBYbP"
      },
      "execution_count": null,
      "outputs": []
    },
    {
      "cell_type": "markdown",
      "metadata": {
        "id": "FaYIgjPSkWW9"
      },
      "source": [
        "# Visualize missing data for majority-minority vs. maority-white communities for a specific act\n",
        "Let's compare the data completeness for majority-minority vs. white communities for a specific act. Run this cell to choose a specific act:"
      ]
    },
    {
      "cell_type": "code",
      "source": [
        "choose_act_widget=widgets.Select(\n",
        "    options=[\"Basic Info\", \"CWA\", \"RCRA\", \"CAA\"],\n",
        "    description='Act:',\n",
        "    disabled=False\n",
        ")\n",
        "display(choose_act_widget)"
      ],
      "metadata": {
        "id": "KMMSJ0dbq568"
      },
      "execution_count": null,
      "outputs": []
    },
    {
      "cell_type": "markdown",
      "metadata": {
        "id": "dSbkVfOSRQLW"
      },
      "source": [
        "Similar to the way that we previously split facilities into environmental justice and non-environmental justice communities, here we'll split facilities based on the environmental justice column selection from above."
      ]
    },
    {
      "cell_type": "code",
      "metadata": {
        "id": "s-F45_Qapbab"
      },
      "source": [
        "# Separate into majority nonwhite and majority white areas\n",
        "# based on the column value selected earlier\n",
        "currently_selected_facs = act_facs[choose_act_widget.value]\n",
        "if choose_ej_column_widget.value == \"FAC_PERCENT_MINORITY\":  \n",
        "  majmin = currently_selected_facs.loc[currently_selected_facs[\"FAC_PERCENT_MINORITY\"] >= 50 ] # 40 = US-wide percent\n",
        "  white = currently_selected_facs.loc[currently_selected_facs[\"FAC_PERCENT_MINORITY\"] < 50 ]\n",
        "else:\n",
        "  majmin = currently_selected_facs[currently_selected_facs[\"EJSCREEN_FLAG_US\"] == \"Y\"]\n",
        "  white = currently_selected_facs[currently_selected_facs[\"EJSCREEN_FLAG_US\"] == \"N\" ]\n",
        "\n",
        "print(\"% Facilities in majority minority areas\")\n",
        "print(round((len(majmin.index)/(len(majmin.index) + len(white.index))*100),2), \"%\")\n",
        "print(\"--------------\")\n",
        "print(\"% Facilities in majority white areas\")\n",
        "print(round((len(white.index)/(len(majmin.index) + len(white.index)) * 100),2), \"%\")"
      ],
      "execution_count": null,
      "outputs": []
    },
    {
      "cell_type": "markdown",
      "metadata": {
        "id": "UnAo_4yKQGPJ"
      },
      "source": [
        "### Get percent of missing data for each column in this act\n",
        "\n",
        "This cell gets the percent of missing data for each column in this act, then compares it for facilities in majority-minority communities vs. majority-white communities.\n",
        "\n",
        "As this is the percent of missing data, **higher scores are worse**, because it means more data is missing.\n",
        "\n",
        "\n",
        "---\n",
        "\n",
        "Note: when looking at Basic Info, the data completeness score will always be 0 for `FAC_LONG` and `FAC_LAT`. If the ECHO database doesn't have a facility's location, then it also won't have the minority composition of the surrounding community. Therefore, none of the facilities that are missing `FAC_LONG` and `FAC_LAT` will be sorted into `majmin` or `white`."
      ]
    },
    {
      "cell_type": "code",
      "metadata": {
        "id": "Cw4hkuOf9gRW"
      },
      "source": [
        "results = {}\n",
        "chosen_act_columns = intended_columns[choose_act_widget.value]\n",
        "\n",
        "groups = [\"All\", \"Majority-Minority\", \"Majority-White\"]\n",
        "for pos, group in enumerate([currently_selected_facs, majmin, white]):\n",
        "  results[groups[pos]]={}\n",
        "  facilities = len(group.index)\n",
        "  for field in chosen_act_columns:\n",
        "    results[groups[pos]][\"% Facilities Missing \"+field] = round(((group[field].isna().sum()/facilities)*100),2)\n",
        "results = pd.DataFrame(results)\n",
        "results"
      ],
      "execution_count": null,
      "outputs": []
    },
    {
      "cell_type": "markdown",
      "source": [
        "The following cell visualizes the previous table into a graph."
      ],
      "metadata": {
        "id": "_qlDAVxRDAgr"
      }
    },
    {
      "cell_type": "code",
      "metadata": {
        "id": "3ukfGVNETcSm"
      },
      "source": [
        "results.plot.bar(figsize=(12,12)).set(ylabel = '% Facilities Missing Data in Column', title = 'Missing Facility Data for All vs. Majority-Minority vs. White Communities');"
      ],
      "execution_count": null,
      "outputs": []
    },
    {
      "cell_type": "markdown",
      "source": [
        "# Zooming in on data disparities in specific columns\n",
        "Choose a column to calculate the data quality - specifically, the percent of facilities in majority-minority communities regulated under the selected act with data missing in this column, per state. If you would like to switch acts, return to the `choose_act_widget` a few cells above and then re-run them."
      ],
      "metadata": {
        "id": "mxPg7T4XxU_v"
      }
    },
    {
      "cell_type": "code",
      "source": [
        "choose_column_widget=widgets.Select(\n",
        "    options=chosen_act_columns,\n",
        "    description='Column:',\n",
        "    disabled=False\n",
        ")\n",
        "display(choose_column_widget)"
      ],
      "metadata": {
        "id": "PcXF36VZw1VY"
      },
      "execution_count": null,
      "outputs": []
    },
    {
      "cell_type": "markdown",
      "metadata": {
        "id": "7T4fNTv5HxgV"
      },
      "source": [
        "The cell below calculates the percent of missing data in majority minority communities by state.\n",
        "\n",
        "* `Count`: number of facilities regulated under this act in majority minority communities with missing information in the selected column, per state\n",
        "* `Percent`: the above, expressed as a percent of all \n",
        "* `STD`: the standard deviation, indicates if that state has more or less facilities with missing information compared to the mean number of facilities with missing information. Here, negative values indicate *greater* data completeness compared with the US mean, while positive values indicate *less* data completeness.\n",
        "\n",
        "In plain language, a result like\n",
        "| FAC_STATE  | Count  | % Missing Column  | STD    |\n",
        "| ---------- | ------ | ----------------- | ------ |\n",
        "| AK         | 139    | 43.99             | -0.49  |\n",
        "\n",
        "means that there are 139 facilities regulated under the selected act in Alaska that are in majority-minority areas and are missing information on the selected column. This equates to 43.99% of all facilities regulated under the selected act in Alaskan majority-minority communities. This represents a somewhat greater level of data completness in Alaska's majority-minority communities than other states."
      ]
    },
    {
      "cell_type": "code",
      "metadata": {
        "id": "oNcEg93Yftrv"
      },
      "source": [
        "chosen_column = choose_column_widget.value\n",
        "\n",
        "#add column for counting NAs on X column (e.g. CWA_INSPECTION_COUNT)\n",
        "def labeler (row):\n",
        "  if chosen_column == \"FAC_STATE\" or chosen_column == \"FAC_COUNTY\":\n",
        "    if pd.isnull(row[chosen_column]):\n",
        "      return 1\n",
        "    else:\n",
        "      return 0\n",
        "  else:\n",
        "    if math.isnan(row[chosen_column]):\n",
        "      return 1\n",
        "    else:\n",
        "      return 0\n",
        "majmin[\"Count\"] = majmin.apply(labeler, axis=1) # count NAs on X column\n",
        "\n",
        "# Summarize the # of facilities in maj-min communities missing info per state \n",
        "# and also just count the total number of facilities in maj-min communities per state\n",
        "state_data = majmin.groupby([\"FAC_STATE\"], dropna=False).agg({\"Count\": \"sum\", \"FAC_STATE\": \"count\"}) \n",
        "# Calculate the previous as a percentage\n",
        "state_data[\"% Missing Column\"] = round(((state_data[\"Count\"] / state_data[\"FAC_STATE\"]) * 100),2)\n",
        "state_data[\"STUSPS\"] = state_data.index\n",
        "\n",
        "# Remove \"inf\" values resulting from no state listed\n",
        "state_data = state_data.drop(state_data[state_data[\"% Missing Column\"]>100].index)\n",
        "\n",
        "mean = state_data['% Missing Column'].mean() # Calculate average across states\n",
        "std = state_data['% Missing Column'].std() # Calculate standard deviation\n",
        "def stder(row):\n",
        "  z = round(((row[\"% Missing Column\"]-mean)/std),2)\n",
        "  return z\n",
        "state_data[\"STD\"] = state_data.apply(stder, axis=1) # calculate departure from mean in terms of STD (Z scores)\n",
        "\n",
        "display(state_data[[\"Count\", \"% Missing Column\", \"STD\"]])"
      ],
      "execution_count": null,
      "outputs": []
    },
    {
      "cell_type": "markdown",
      "metadata": {
        "id": "BKN1D9QE-KYG"
      },
      "source": [
        "\n",
        "The map below shows the variation in the average percent of facilities in majority minority communities regulated under the selected act with no information for the selected column.\n",
        "\n",
        "The map is generated by getting geographic information on each of the states, and then matching this geographic information with the state-level standard deviation previously calculated.\n",
        "\n",
        "* Red = worse data completeness\n",
        "* White = better data completeness\n",
        "* Black indicates no data on that state."
      ]
    },
    {
      "cell_type": "code",
      "metadata": {
        "id": "NA1aGCFneBuo"
      },
      "source": [
        "state_choropleth_mapper(state_data, \"STD\", \"Departure from Average % of Facilities Missing \" + chosen_column)"
      ],
      "execution_count": null,
      "outputs": []
    },
    {
      "cell_type": "markdown",
      "metadata": {
        "id": "wpsJCxpg787O"
      },
      "source": [
        "# What does missing data look like where I live?\n",
        "\n",
        "This displays the scores for your state, and which columns are missing the most data in your county.\n",
        "\n",
        "Note: since this uses the `FAC_STATE` and `FAC_COUNTY` columns to find facilities in your area, this won't capture facilities in your county that are missing state and county data."
      ]
    },
    {
      "cell_type": "markdown",
      "metadata": {
        "id": "JaGOUdO-787O"
      },
      "source": [
        "Pick your state:"
      ]
    },
    {
      "cell_type": "code",
      "metadata": {
        "id": "BE8OP0Zk787O"
      },
      "source": [
        "from ECHO_modules.utilities import show_region_type_widget, \\\n",
        "    show_state_widget, show_pick_region_widget, get_active_facilities\n",
        "state_widget = show_state_widget()"
      ],
      "execution_count": null,
      "outputs": []
    },
    {
      "cell_type": "markdown",
      "metadata": {
        "id": "CNdvJvIB787P"
      },
      "source": [
        "Pick one county:"
      ]
    },
    {
      "cell_type": "code",
      "metadata": {
        "id": "EGkNtYLi787P"
      },
      "source": [
        "region_widget = show_pick_region_widget( type='County',\n",
        "  state_widget=state_widget )"
      ],
      "execution_count": null,
      "outputs": []
    },
    {
      "cell_type": "markdown",
      "source": [
        "This cell parses the outputs of the widgets into a value that can be used to run queries. Please run it, but the only ouput you'll see is \"Ready\"."
      ],
      "metadata": {
        "id": "xlIRZTO4ZKH4"
      }
    },
    {
      "cell_type": "code",
      "source": [
        "state = state_widget.value\n",
        "\n",
        "if region_widget.value:\n",
        "  regions_selected = region_widget.value\n",
        "  parseable_county_name = \"','\".join( region_widget.value )\n",
        "else: # set default\n",
        "  regions_selected = ('BALDWIN',) # random county in Alabama\n",
        "\n",
        "print(\"Ready\")"
      ],
      "metadata": {
        "id": "nGOc4NEfY4jr"
      },
      "execution_count": null,
      "outputs": []
    },
    {
      "cell_type": "markdown",
      "source": [
        "The following is the average Basic Info, CWA, RCRA, and CAA for the selected state:"
      ],
      "metadata": {
        "id": "kEeGJkUmZCCv"
      }
    },
    {
      "cell_type": "code",
      "source": [
        "scores_by_state.loc[scores_by_state[\"STUSPS\"] == state]"
      ],
      "metadata": {
        "id": "q0AZhenw1S_T"
      },
      "execution_count": null,
      "outputs": []
    },
    {
      "cell_type": "markdown",
      "source": [
        "The following is the average Basic Info, CWA, RCRA, and CAA for the selected county.\n",
        "\n",
        "Remember that in this case, higher scores indicate *less* data completeness, while lower scores indicate *greater* data completness."
      ],
      "metadata": {
        "id": "EHErRJN0ZVXt"
      }
    },
    {
      "cell_type": "code",
      "source": [
        "county_facs = full_echo_data[full_echo_data[\"FAC_COUNTY\"] == parseable_county_name]\n",
        "print(\"Basic Info Score for your county\")\n",
        "display(round((county_facs.sum().Basic_Info_Score / len(county_facs)),2))\n",
        "print(\"-------------------------\")\n",
        "\n",
        "cwa_county_facs = cwa_facs[cwa_facs[\"FAC_COUNTY\"] == parseable_county_name]\n",
        "print(\"CWA Score for your county\")\n",
        "display(round((cwa_county_facs.sum().CWA_Score / len(cwa_county_facs)),2))\n",
        "print(\"-------------------------\")\n",
        "\n",
        "rcra_county_facs = rcra_facs[rcra_facs[\"FAC_COUNTY\"] == parseable_county_name]\n",
        "print(\"RCRA Score for your county\")\n",
        "display(round((rcra_county_facs.sum().RCRA_Score / len(rcra_county_facs)),2))\n",
        "print(\"-------------------------\")\n",
        "\n",
        "caa_county_facs = caa_facs[caa_facs[\"FAC_COUNTY\"] == parseable_county_name]\n",
        "print(\"CAA Score for your county\")\n",
        "display(round((caa_county_facs.sum().CAA_Score / len(caa_county_facs)),2))"
      ],
      "metadata": {
        "id": "DOfHTxwrZT7c"
      },
      "execution_count": null,
      "outputs": []
    },
    {
      "cell_type": "markdown",
      "metadata": {
        "id": "pvFOPPN-787Q"
      },
      "source": [
        "**!!! HERE BE DRAGONS: The following code block needs testing and validation.**\n",
        "\n",
        "The following is the top 20 columns with missing data in the selected county."
      ]
    },
    {
      "cell_type": "code",
      "metadata": {
        "id": "oaNZAoWs787Q"
      },
      "source": [
        "selected_region_facilities = get_active_facilities( state, 'County', regions_selected )\n",
        "\n",
        "# if you only want to get the columns from full_echo_data\n",
        "# selected_region_facilities = full_echo_data.loc[full_echo_data['FAC_COUNTY'] == regions_selected]\n",
        "\n",
        "num_facs = selected_region_facilities.shape[0]\n",
        "missing_columns = selected_region_facilities.isnull().sum().to_frame()\n",
        "missing_columns['%'] = missing_columns[0] / num_facs\n",
        "\n",
        "max_columns_to_show = 20\n",
        "# sort columns by highest percentage of missing data\n",
        "missing_columns = missing_columns.sort_values(by=['%'], ascending=False)\n",
        "res = missing_columns.head(max_columns_to_show)\n",
        "print(\"Top 20 columns with missing data in\", parseable_county_name, state)\n",
        "res"
      ],
      "execution_count": null,
      "outputs": []
    },
    {
      "cell_type": "code",
      "source": [
        ""
      ],
      "metadata": {
        "id": "ID9dvHX9VURf"
      },
      "execution_count": null,
      "outputs": []
    }
  ]
}